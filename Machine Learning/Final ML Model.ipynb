{
 "cells": [
  {
   "cell_type": "code",
   "execution_count": 1,
   "id": "e8c59552",
   "metadata": {},
   "outputs": [],
   "source": [
    "import numpy as np\n",
    "import pandas as pd\n",
    "from pathlib import Path\n",
    "from collections import Counter\n",
    "import warnings\n",
    "warnings.filterwarnings('ignore')\n",
    "from sklearn.metrics import balanced_accuracy_score\n",
    "from sklearn.metrics import confusion_matrix\n",
    "from imblearn.metrics import classification_report_imbalanced\n",
    "from sklearn.model_selection import train_test_split\n",
    "from sklearn.ensemble import RandomForestClassifier\n",
    "from sklearn.metrics import accuracy_score\n",
    "from sklearn.preprocessing import StandardScaler,OneHotEncoder\n",
    "import pandas as pd\n",
    "import tensorflow as tf\n",
    "import hvplot.pandas\n",
    "import plotly.express as px\n",
    "%matplotlib inline"
   ]
  },
  {
   "cell_type": "markdown",
   "id": "f67ebcaa",
   "metadata": {},
   "source": [
    "## STEP 1: Read the CSV and Data Preprocessing"
   ]
  },
  {
   "cell_type": "code",
   "execution_count": 2,
   "id": "358a502d",
   "metadata": {},
   "outputs": [],
   "source": [
    "# Load the Data\n",
    "# file_df = pd.read_csv(“……..csv\")\n",
    "# file_df.head()"
   ]
  },
  {
   "cell_type": "code",
   "execution_count": 3,
   "id": "bcb0fd3e",
   "metadata": {},
   "outputs": [],
   "source": [
    "# Drop columns not required"
   ]
  },
  {
   "cell_type": "code",
   "execution_count": null,
   "id": "1ebcb007",
   "metadata": {},
   "outputs": [],
   "source": [
    "# identify unique values in each column (if relevant to data)"
   ]
  },
  {
   "cell_type": "code",
   "execution_count": null,
   "id": "a04dbcf0",
   "metadata": {},
   "outputs": [],
   "source": [
    "# Drop null values"
   ]
  },
  {
   "cell_type": "code",
   "execution_count": 4,
   "id": "ff6ca18a",
   "metadata": {},
   "outputs": [],
   "source": [
    "# Value counts for binning"
   ]
  },
  {
   "cell_type": "code",
   "execution_count": 6,
   "id": "c1d4b003",
   "metadata": {},
   "outputs": [],
   "source": [
    "# Determine if any values require replacing"
   ]
  },
  {
   "cell_type": "code",
   "execution_count": null,
   "id": "e4752ff5",
   "metadata": {},
   "outputs": [],
   "source": [
    "# Look at CLASSIFICATION value counts for binning"
   ]
  },
  {
   "cell_type": "code",
   "execution_count": null,
   "id": "7c523638",
   "metadata": {},
   "outputs": [],
   "source": [
    "# Use visualizations for value counts "
   ]
  },
  {
   "cell_type": "code",
   "execution_count": null,
   "id": "c98abc3a",
   "metadata": {},
   "outputs": [],
   "source": [
    "# Generate categorical variable lists"
   ]
  },
  {
   "cell_type": "code",
   "execution_count": null,
   "id": "da9b001d",
   "metadata": {},
   "outputs": [],
   "source": [
    "# Any need for resampling and checking using oversampling /undersampling / SMOTE?"
   ]
  },
  {
   "cell_type": "code",
   "execution_count": null,
   "id": "3ae16ec0",
   "metadata": {},
   "outputs": [],
   "source": [
    "# Create OneHotEncoder instance"
   ]
  },
  {
   "cell_type": "code",
   "execution_count": null,
   "id": "ed0312f1",
   "metadata": {},
   "outputs": [],
   "source": [
    "# Fit & Transform OnHotEncoder"
   ]
  },
  {
   "cell_type": "code",
   "execution_count": null,
   "id": "e21f86ce",
   "metadata": {},
   "outputs": [],
   "source": [
    "# Add encoded variable names to the DF"
   ]
  },
  {
   "cell_type": "code",
   "execution_count": null,
   "id": "73d54a19",
   "metadata": {},
   "outputs": [],
   "source": [
    "# Merge one-hot encoded features and drop originals"
   ]
  },
  {
   "cell_type": "code",
   "execution_count": null,
   "id": "52519474",
   "metadata": {},
   "outputs": [],
   "source": [
    "# Split our preprocessed data into our features and target arrays"
   ]
  },
  {
   "cell_type": "code",
   "execution_count": null,
   "id": "bb1918fb",
   "metadata": {},
   "outputs": [],
   "source": [
    "# Split the preprocessed data into a training and testing dataset"
   ]
  },
  {
   "cell_type": "code",
   "execution_count": null,
   "id": "c97c9418",
   "metadata": {},
   "outputs": [],
   "source": [
    "# Create StandardScaler instances"
   ]
  },
  {
   "cell_type": "code",
   "execution_count": null,
   "id": "6bd6cac8",
   "metadata": {},
   "outputs": [],
   "source": [
    "# Fit the StandardScaler"
   ]
  },
  {
   "cell_type": "code",
   "execution_count": null,
   "id": "cd8441b6",
   "metadata": {},
   "outputs": [],
   "source": [
    "# Scale the Data"
   ]
  },
  {
   "attachments": {},
   "cell_type": "markdown",
   "id": "365cd748",
   "metadata": {},
   "source": [
    "## STEP 2: Train & Evaluate Using Ensemble Learners"
   ]
  },
  {
   "cell_type": "code",
   "execution_count": 7,
   "id": "9b67198e",
   "metadata": {},
   "outputs": [],
   "source": [
    "# Create Random Forest Classifier, Fit the Model and Evaluate the Model"
   ]
  },
  {
   "attachments": {},
   "cell_type": "markdown",
   "id": "4bbaf677",
   "metadata": {},
   "source": [
    "## STEP 3: Compile, Train & Evaluate the Model (Using Tensor Flow) in Deep Learning"
   ]
  },
  {
   "cell_type": "code",
   "execution_count": null,
   "id": "ce3dc465",
   "metadata": {},
   "outputs": [],
   "source": [
    "# Define the model - deep neural net, i.e., the number of input features and hidden nodes for each layer.\n",
    "# Add layers (input, hidden, output)\n",
    "# Check model structure\n"
   ]
  },
  {
   "cell_type": "code",
   "execution_count": null,
   "id": "01b37bac",
   "metadata": {},
   "outputs": [],
   "source": [
    "# Compile (add checkpoints, create callback to save weights)\n"
   ]
  },
  {
   "cell_type": "code",
   "execution_count": null,
   "id": "1e9d653d",
   "metadata": {},
   "outputs": [],
   "source": [
    "# Train the model\n"
   ]
  },
  {
   "cell_type": "code",
   "execution_count": null,
   "id": "566c4761",
   "metadata": {},
   "outputs": [],
   "source": [
    "# Evaluate the model \n"
   ]
  },
  {
   "cell_type": "code",
   "execution_count": null,
   "id": "1fa4f6c4",
   "metadata": {},
   "outputs": [],
   "source": [
    "# Optimize the model – drop noisy variables, change layer, neurons, epochs\n"
   ]
  },
  {
   "cell_type": "code",
   "execution_count": null,
   "id": "9bd48afa",
   "metadata": {},
   "outputs": [],
   "source": [
    "# Export to HDF5"
   ]
  }
 ],
 "metadata": {
  "kernelspec": {
   "display_name": "mlenv",
   "language": "python",
   "name": "mlenv"
  },
  "language_info": {
   "codemirror_mode": {
    "name": "ipython",
    "version": 3
   },
   "file_extension": ".py",
   "mimetype": "text/x-python",
   "name": "python",
   "nbconvert_exporter": "python",
   "pygments_lexer": "ipython3",
   "version": "3.7.11"
  }
 },
 "nbformat": 4,
 "nbformat_minor": 5
}
